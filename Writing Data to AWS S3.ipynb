{
 "cells": [
  {
   "cell_type": "markdown",
   "id": "adcfea39",
   "metadata": {},
   "source": [
    "**Created by Berkay Alan**\n",
    "\n",
    "** **\n",
    "\n",
    "**Writing Data to AWS S3**\n",
    "\n",
    "**4 of September, 2022**\n",
    "\n",
    "**For more Tutorial**: https://www.kaggle.com/berkayalan"
   ]
  },
  {
   "cell_type": "markdown",
   "id": "2010950e",
   "metadata": {},
   "source": [
    "# Content"
   ]
  },
  {
   "cell_type": "markdown",
   "id": "3b2e4b40",
   "metadata": {},
   "source": [
    "- Writing Data to AWS S3"
   ]
  },
  {
   "cell_type": "markdown",
   "id": "485cdbdd",
   "metadata": {},
   "source": [
    "# Resources"
   ]
  },
  {
   "cell_type": "markdown",
   "id": "0c4b17cb",
   "metadata": {},
   "source": [
    "- [**Connecting to AWS S3 with Python**](https://www.gormanalysis.com/blog/connecting-to-aws-s3-with-python/)"
   ]
  },
  {
   "cell_type": "markdown",
   "id": "6095334d",
   "metadata": {},
   "source": [
    "# Installing Libraries"
   ]
  },
  {
   "cell_type": "code",
   "execution_count": 2,
   "id": "ebd64582",
   "metadata": {},
   "outputs": [],
   "source": [
    "import pandas as pd\n",
    "import numpy as np\n",
    "import boto3\n",
    "import os\n",
    "\n",
    "from warnings import filterwarnings\n",
    "filterwarnings('ignore')"
   ]
  },
  {
   "cell_type": "markdown",
   "id": "e4f0028b",
   "metadata": {},
   "source": [
    "# Authentication of Boto3"
   ]
  },
  {
   "cell_type": "markdown",
   "id": "b85ff7f0",
   "metadata": {},
   "source": [
    " In order to connect to S3, we need to authenticate. We can do this in many ways using boto. Perhaps the easiest and most direct method is just to include our credentials as parameters to boto3.resource(). For example, here we create a ServiceResource object that we can use to connect to S3."
   ]
  },
  {
   "cell_type": "code",
   "execution_count": 3,
   "id": "b760854e",
   "metadata": {},
   "outputs": [],
   "source": [
    "s3 = boto3.resource(\n",
    "    service_name='s3',\n",
    "    region_name='eu-west-1',\n",
    "    aws_access_key_id='mykey',\n",
    "    aws_secret_access_key='mysecretkey'\n",
    ")"
   ]
  },
  {
   "cell_type": "markdown",
   "id": "cf6d9e62",
   "metadata": {},
   "source": [
    "Note that *region_name* should be the region of our S3 bucket."
   ]
  },
  {
   "cell_type": "markdown",
   "id": "44f36a58",
   "metadata": {},
   "source": [
    "We can print a list of all the S3 buckets in our resource like this."
   ]
  },
  {
   "cell_type": "code",
   "execution_count": 3,
   "id": "3aaf4e75",
   "metadata": {},
   "outputs": [
    {
     "name": "stdout",
     "output_type": "stream",
     "text": [
      "berkayalan\n"
     ]
    }
   ],
   "source": [
    "# Print out bucket names\n",
    "for bucket in s3.buckets.all():\n",
    "    print(bucket.name)"
   ]
  },
  {
   "cell_type": "markdown",
   "id": "46695019",
   "metadata": {},
   "source": [
    "# Uploading files to S3"
   ]
  },
  {
   "cell_type": "markdown",
   "id": "8c05ba78",
   "metadata": {},
   "source": [
    "Let's upload some files to S3 bucket."
   ]
  },
  {
   "cell_type": "code",
   "execution_count": 6,
   "id": "33b852a5",
   "metadata": {},
   "outputs": [],
   "source": [
    "# Upload files to S3 bucket\n",
    "s3.Bucket('berkayalan').upload_file(Filename='Apple.csv', Key='Apple.csv') # bucket name and file name\n",
    "s3.Bucket('berkayalan').upload_file(Filename='starbucks.csv', Key='starbucks.csv')"
   ]
  },
  {
   "cell_type": "markdown",
   "id": "1f4b0595",
   "metadata": {},
   "source": [
    "Here Filename is the name of the local file and Key is the filename we’ll see in S3.\n",
    "\n",
    "Now let’s list all the objects in our bucket:"
   ]
  },
  {
   "cell_type": "code",
   "execution_count": 7,
   "id": "fb9589ab",
   "metadata": {},
   "outputs": [
    {
     "name": "stdout",
     "output_type": "stream",
     "text": [
      "s3.ObjectSummary(bucket_name='berkayalan', key='Apple.csv')\n",
      "s3.ObjectSummary(bucket_name='berkayalan', key='starbucks.csv')\n"
     ]
    }
   ],
   "source": [
    "for obj in s3.Bucket('berkayalan').objects.all(): # bucket name\n",
    "    print(obj)"
   ]
  },
  {
   "cell_type": "markdown",
   "id": "fe9ac545",
   "metadata": {},
   "source": [
    "That's all. We have already uploaded files."
   ]
  }
 ],
 "metadata": {
  "kernelspec": {
   "display_name": "Python 3 (ipykernel)",
   "language": "python",
   "name": "python3"
  },
  "language_info": {
   "codemirror_mode": {
    "name": "ipython",
    "version": 3
   },
   "file_extension": ".py",
   "mimetype": "text/x-python",
   "name": "python",
   "nbconvert_exporter": "python",
   "pygments_lexer": "ipython3",
   "version": "3.9.12"
  },
  "toc": {
   "base_numbering": 1,
   "nav_menu": {},
   "number_sections": true,
   "sideBar": true,
   "skip_h1_title": false,
   "title_cell": "Table of Contents",
   "title_sidebar": "Contents",
   "toc_cell": false,
   "toc_position": {},
   "toc_section_display": true,
   "toc_window_display": false
  },
  "varInspector": {
   "cols": {
    "lenName": 16,
    "lenType": 16,
    "lenVar": 40
   },
   "kernels_config": {
    "python": {
     "delete_cmd_postfix": "",
     "delete_cmd_prefix": "del ",
     "library": "var_list.py",
     "varRefreshCmd": "print(var_dic_list())"
    },
    "r": {
     "delete_cmd_postfix": ") ",
     "delete_cmd_prefix": "rm(",
     "library": "var_list.r",
     "varRefreshCmd": "cat(var_dic_list()) "
    }
   },
   "types_to_exclude": [
    "module",
    "function",
    "builtin_function_or_method",
    "instance",
    "_Feature"
   ],
   "window_display": false
  }
 },
 "nbformat": 4,
 "nbformat_minor": 5
}
