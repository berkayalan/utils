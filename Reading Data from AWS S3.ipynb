{
 "cells": [
  {
   "cell_type": "markdown",
   "id": "adcfea39",
   "metadata": {},
   "source": [
    "**Created by Berkay Alan**\n",
    "\n",
    "** **\n",
    "\n",
    "**Reading Data from AWS S3**\n",
    "\n",
    "**4 of September, 2022**\n",
    "\n",
    "**For more Tutorial**: https://www.kaggle.com/berkayalan"
   ]
  },
  {
   "cell_type": "markdown",
   "id": "2010950e",
   "metadata": {},
   "source": [
    "# Content"
   ]
  },
  {
   "cell_type": "markdown",
   "id": "3b2e4b40",
   "metadata": {},
   "source": [
    "- Reading Data from AWS S3 with Boto"
   ]
  },
  {
   "cell_type": "markdown",
   "id": "485cdbdd",
   "metadata": {},
   "source": [
    "# Resources"
   ]
  },
  {
   "cell_type": "markdown",
   "id": "0c4b17cb",
   "metadata": {},
   "source": [
    "- [**Connecting to AWS S3 with Python**](https://www.gormanalysis.com/blog/connecting-to-aws-s3-with-python/)"
   ]
  },
  {
   "cell_type": "markdown",
   "id": "6095334d",
   "metadata": {},
   "source": [
    "# Installing Libraries"
   ]
  },
  {
   "cell_type": "code",
   "execution_count": 2,
   "id": "ebd64582",
   "metadata": {},
   "outputs": [],
   "source": [
    "import pandas as pd\n",
    "import numpy as np\n",
    "import boto3\n",
    "import os\n",
    "\n",
    "from warnings import filterwarnings\n",
    "filterwarnings('ignore')"
   ]
  },
  {
   "cell_type": "markdown",
   "id": "bbbaa8dd",
   "metadata": {},
   "source": [
    "# Authentication of Boto3"
   ]
  },
  {
   "cell_type": "markdown",
   "id": "1663de65",
   "metadata": {},
   "source": [
    " In order to connect to S3, we need to authenticate. We can do this in many ways using boto. Perhaps the easiest and most direct method is just to include our credentials as parameters to boto3.resource(). For example, here we create a ServiceResource object that we can use to connect to S3."
   ]
  },
  {
   "cell_type": "code",
   "execution_count": 3,
   "id": "b760854e",
   "metadata": {},
   "outputs": [],
   "source": [
    "s3 = boto3.resource(\n",
    "    service_name='s3',\n",
    "    region_name='eu-west-1',\n",
    "    aws_access_key_id='mykey',\n",
    "    aws_secret_access_key='mysecretkey'\n",
    ")"
   ]
  },
  {
   "cell_type": "markdown",
   "id": "0b3514fa",
   "metadata": {},
   "source": [
    "Note that *region_name* should be the region of our S3 bucket."
   ]
  },
  {
   "cell_type": "markdown",
   "id": "fdac75d8",
   "metadata": {},
   "source": [
    "We can print a list of all the S3 buckets in our resource like this."
   ]
  },
  {
   "cell_type": "code",
   "execution_count": 4,
   "id": "3aaf4e75",
   "metadata": {},
   "outputs": [
    {
     "name": "stdout",
     "output_type": "stream",
     "text": [
      "berkayalan\n"
     ]
    }
   ],
   "source": [
    "# Print out bucket names\n",
    "for bucket in s3.buckets.all():\n",
    "    print(bucket.name)"
   ]
  },
  {
   "cell_type": "markdown",
   "id": "6557894a",
   "metadata": {},
   "source": [
    "We can also see list all the objects in our bucket:"
   ]
  },
  {
   "cell_type": "code",
   "execution_count": 7,
   "id": "fb9589ab",
   "metadata": {},
   "outputs": [
    {
     "name": "stdout",
     "output_type": "stream",
     "text": [
      "s3.ObjectSummary(bucket_name='berkayalan', key='Apple.csv')\n",
      "s3.ObjectSummary(bucket_name='berkayalan', key='starbucks.csv')\n"
     ]
    }
   ],
   "source": [
    "for obj in s3.Bucket('berkayalan').objects.all(): # bucket name\n",
    "    print(obj)"
   ]
  },
  {
   "cell_type": "markdown",
   "id": "6d0a807a",
   "metadata": {},
   "source": [
    "This returns a list of s3_objects. We can wead one of these CSV files from S3 into python by fetching an object and then the object’s Body, like below."
   ]
  },
  {
   "cell_type": "code",
   "execution_count": 14,
   "id": "416dd390",
   "metadata": {},
   "outputs": [],
   "source": [
    "# Load csv file directly into python\n",
    "object_name = s3.Bucket('berkayalan').Object('Apple.csv').get() # bucket name and file name;"
   ]
  },
  {
   "cell_type": "code",
   "execution_count": 15,
   "id": "76a60df2",
   "metadata": {},
   "outputs": [
    {
     "data": {
      "text/plain": [
       "{'ResponseMetadata': {'RequestId': 'J8VXZS4F3KD4QAGY',\n",
       "  'HostId': 'JJJXNFIERcN3N1+VpnFyPX/0iTICDdaGvif7XYAWJ2Q2gnx77IKCuUWbvUS/9MYPv0EhizDeBzI=',\n",
       "  'HTTPStatusCode': 200,\n",
       "  'HTTPHeaders': {'x-amz-id-2': 'JJJXNFIERcN3N1+VpnFyPX/0iTICDdaGvif7XYAWJ2Q2gnx77IKCuUWbvUS/9MYPv0EhizDeBzI=',\n",
       "   'x-amz-request-id': 'J8VXZS4F3KD4QAGY',\n",
       "   'date': 'Sun, 04 Sep 2022 17:33:58 GMT',\n",
       "   'last-modified': 'Sun, 04 Sep 2022 17:25:52 GMT',\n",
       "   'etag': '\"1033b16bc34e2aa0a23fc756c909e807\"',\n",
       "   'accept-ranges': 'bytes',\n",
       "   'content-type': 'binary/octet-stream',\n",
       "   'server': 'AmazonS3',\n",
       "   'content-length': '67664'},\n",
       "  'RetryAttempts': 0},\n",
       " 'AcceptRanges': 'bytes',\n",
       " 'LastModified': datetime.datetime(2022, 9, 4, 17, 25, 52, tzinfo=tzutc()),\n",
       " 'ContentLength': 67664,\n",
       " 'ETag': '\"1033b16bc34e2aa0a23fc756c909e807\"',\n",
       " 'ContentType': 'binary/octet-stream',\n",
       " 'Metadata': {},\n",
       " 'Body': <botocore.response.StreamingBody at 0x7f908802baf0>}"
      ]
     },
     "execution_count": 15,
     "metadata": {},
     "output_type": "execute_result"
    }
   ],
   "source": [
    "object_name"
   ]
  },
  {
   "cell_type": "code",
   "execution_count": 16,
   "id": "7a12a422",
   "metadata": {},
   "outputs": [],
   "source": [
    "apple = pd.read_csv(object_name['Body'], index_col=0)"
   ]
  },
  {
   "cell_type": "code",
   "execution_count": 17,
   "id": "b2bccde7",
   "metadata": {},
   "outputs": [
    {
     "data": {
      "text/html": [
       "<div>\n",
       "<style scoped>\n",
       "    .dataframe tbody tr th:only-of-type {\n",
       "        vertical-align: middle;\n",
       "    }\n",
       "\n",
       "    .dataframe tbody tr th {\n",
       "        vertical-align: top;\n",
       "    }\n",
       "\n",
       "    .dataframe thead th {\n",
       "        text-align: right;\n",
       "    }\n",
       "</style>\n",
       "<table border=\"1\" class=\"dataframe\">\n",
       "  <thead>\n",
       "    <tr style=\"text-align: right;\">\n",
       "      <th></th>\n",
       "      <th>Open</th>\n",
       "      <th>High</th>\n",
       "      <th>Low</th>\n",
       "      <th>Close</th>\n",
       "      <th>Adj Close</th>\n",
       "      <th>Volume</th>\n",
       "    </tr>\n",
       "    <tr>\n",
       "      <th>Date</th>\n",
       "      <th></th>\n",
       "      <th></th>\n",
       "      <th></th>\n",
       "      <th></th>\n",
       "      <th></th>\n",
       "      <th></th>\n",
       "    </tr>\n",
       "  </thead>\n",
       "  <tbody>\n",
       "    <tr>\n",
       "      <th>2019-01-02</th>\n",
       "      <td>38.722500</td>\n",
       "      <td>39.712502</td>\n",
       "      <td>38.557499</td>\n",
       "      <td>39.480000</td>\n",
       "      <td>38.168346</td>\n",
       "      <td>148158800</td>\n",
       "    </tr>\n",
       "    <tr>\n",
       "      <th>2019-01-03</th>\n",
       "      <td>35.994999</td>\n",
       "      <td>36.430000</td>\n",
       "      <td>35.500000</td>\n",
       "      <td>35.547501</td>\n",
       "      <td>34.366497</td>\n",
       "      <td>365248800</td>\n",
       "    </tr>\n",
       "    <tr>\n",
       "      <th>2019-01-04</th>\n",
       "      <td>36.132500</td>\n",
       "      <td>37.137501</td>\n",
       "      <td>35.950001</td>\n",
       "      <td>37.064999</td>\n",
       "      <td>35.833580</td>\n",
       "      <td>234428400</td>\n",
       "    </tr>\n",
       "    <tr>\n",
       "      <th>2019-01-07</th>\n",
       "      <td>37.174999</td>\n",
       "      <td>37.207500</td>\n",
       "      <td>36.474998</td>\n",
       "      <td>36.982498</td>\n",
       "      <td>35.753822</td>\n",
       "      <td>219111200</td>\n",
       "    </tr>\n",
       "    <tr>\n",
       "      <th>2019-01-08</th>\n",
       "      <td>37.389999</td>\n",
       "      <td>37.955002</td>\n",
       "      <td>37.130001</td>\n",
       "      <td>37.687500</td>\n",
       "      <td>36.435398</td>\n",
       "      <td>164101200</td>\n",
       "    </tr>\n",
       "  </tbody>\n",
       "</table>\n",
       "</div>"
      ],
      "text/plain": [
       "                 Open       High        Low      Close  Adj Close     Volume\n",
       "Date                                                                        \n",
       "2019-01-02  38.722500  39.712502  38.557499  39.480000  38.168346  148158800\n",
       "2019-01-03  35.994999  36.430000  35.500000  35.547501  34.366497  365248800\n",
       "2019-01-04  36.132500  37.137501  35.950001  37.064999  35.833580  234428400\n",
       "2019-01-07  37.174999  37.207500  36.474998  36.982498  35.753822  219111200\n",
       "2019-01-08  37.389999  37.955002  37.130001  37.687500  36.435398  164101200"
      ]
     },
     "execution_count": 17,
     "metadata": {},
     "output_type": "execute_result"
    }
   ],
   "source": [
    "apple.head()"
   ]
  },
  {
   "cell_type": "markdown",
   "id": "0eba56b2",
   "metadata": {},
   "source": [
    "Alternatively, we could download a file from S3 and then read it from disc."
   ]
  },
  {
   "cell_type": "code",
   "execution_count": 18,
   "id": "d1e70247",
   "metadata": {},
   "outputs": [],
   "source": [
    "s3.Bucket('berkayalan').download_file(Key='starbucks.csv', Filename='starbucks_local.csv')\n",
    "str_local = pd.read_csv('starbucks_local.csv', index_col=0)"
   ]
  },
  {
   "cell_type": "code",
   "execution_count": 19,
   "id": "e5444372",
   "metadata": {},
   "outputs": [
    {
     "data": {
      "text/html": [
       "<div>\n",
       "<style scoped>\n",
       "    .dataframe tbody tr th:only-of-type {\n",
       "        vertical-align: middle;\n",
       "    }\n",
       "\n",
       "    .dataframe tbody tr th {\n",
       "        vertical-align: top;\n",
       "    }\n",
       "\n",
       "    .dataframe thead th {\n",
       "        text-align: right;\n",
       "    }\n",
       "</style>\n",
       "<table border=\"1\" class=\"dataframe\">\n",
       "  <thead>\n",
       "    <tr style=\"text-align: right;\">\n",
       "      <th></th>\n",
       "      <th>Close</th>\n",
       "      <th>Volume</th>\n",
       "    </tr>\n",
       "    <tr>\n",
       "      <th>Date</th>\n",
       "      <th></th>\n",
       "      <th></th>\n",
       "    </tr>\n",
       "  </thead>\n",
       "  <tbody>\n",
       "    <tr>\n",
       "      <th>2015-01-02</th>\n",
       "      <td>38.0061</td>\n",
       "      <td>6906098</td>\n",
       "    </tr>\n",
       "    <tr>\n",
       "      <th>2015-01-05</th>\n",
       "      <td>37.2781</td>\n",
       "      <td>11623796</td>\n",
       "    </tr>\n",
       "    <tr>\n",
       "      <th>2015-01-06</th>\n",
       "      <td>36.9748</td>\n",
       "      <td>7664340</td>\n",
       "    </tr>\n",
       "    <tr>\n",
       "      <th>2015-01-07</th>\n",
       "      <td>37.8848</td>\n",
       "      <td>9732554</td>\n",
       "    </tr>\n",
       "    <tr>\n",
       "      <th>2015-01-08</th>\n",
       "      <td>38.4961</td>\n",
       "      <td>13170548</td>\n",
       "    </tr>\n",
       "  </tbody>\n",
       "</table>\n",
       "</div>"
      ],
      "text/plain": [
       "              Close    Volume\n",
       "Date                         \n",
       "2015-01-02  38.0061   6906098\n",
       "2015-01-05  37.2781  11623796\n",
       "2015-01-06  36.9748   7664340\n",
       "2015-01-07  37.8848   9732554\n",
       "2015-01-08  38.4961  13170548"
      ]
     },
     "execution_count": 19,
     "metadata": {},
     "output_type": "execute_result"
    }
   ],
   "source": [
    "str_local.head()"
   ]
  },
  {
   "cell_type": "markdown",
   "id": "b6019d6c",
   "metadata": {},
   "source": [
    "That's all!"
   ]
  }
 ],
 "metadata": {
  "kernelspec": {
   "display_name": "Python 3 (ipykernel)",
   "language": "python",
   "name": "python3"
  },
  "language_info": {
   "codemirror_mode": {
    "name": "ipython",
    "version": 3
   },
   "file_extension": ".py",
   "mimetype": "text/x-python",
   "name": "python",
   "nbconvert_exporter": "python",
   "pygments_lexer": "ipython3",
   "version": "3.9.12"
  },
  "toc": {
   "base_numbering": 1,
   "nav_menu": {},
   "number_sections": true,
   "sideBar": true,
   "skip_h1_title": false,
   "title_cell": "Table of Contents",
   "title_sidebar": "Contents",
   "toc_cell": false,
   "toc_position": {},
   "toc_section_display": true,
   "toc_window_display": false
  },
  "varInspector": {
   "cols": {
    "lenName": 16,
    "lenType": 16,
    "lenVar": 40
   },
   "kernels_config": {
    "python": {
     "delete_cmd_postfix": "",
     "delete_cmd_prefix": "del ",
     "library": "var_list.py",
     "varRefreshCmd": "print(var_dic_list())"
    },
    "r": {
     "delete_cmd_postfix": ") ",
     "delete_cmd_prefix": "rm(",
     "library": "var_list.r",
     "varRefreshCmd": "cat(var_dic_list()) "
    }
   },
   "types_to_exclude": [
    "module",
    "function",
    "builtin_function_or_method",
    "instance",
    "_Feature"
   ],
   "window_display": false
  }
 },
 "nbformat": 4,
 "nbformat_minor": 5
}
